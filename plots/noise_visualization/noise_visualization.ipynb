{
 "cells": [
  {
   "cell_type": "code",
   "execution_count": 1,
   "id": "2582ee67",
   "metadata": {},
   "outputs": [],
   "source": [
    "import os\n",
    "import numpy as np\n",
    "import matplotlib.pyplot as plt\n",
    "import seaborn as sns"
   ]
  },
  {
   "cell_type": "code",
   "execution_count": 2,
   "id": "5e4190cc",
   "metadata": {},
   "outputs": [],
   "source": [
    "# functions for drawing violin plots\n",
    "plt.rcParams['text.usetex'] = True\n",
    "\n",
    "def set_axis_style(ax, labels):\n",
    "    for item in ([ax.title, ax.xaxis.label, ax.yaxis.label] +\n",
    "             ax.get_xticklabels() + ax.get_yticklabels()):\n",
    "        item.set_fontsize(16)\n",
    "    ax.xaxis.set_tick_params(direction='out')\n",
    "    ax.xaxis.set_ticks_position('bottom')\n",
    "    ax.set_xticks(ticks=np.arange(1, len(labels) + 1), labels=labels)\n",
    "    ax.set_xlim(0.45, len(labels) + 0.55)\n",
    "    ax.set_xlabel('Epoch number')\n",
    "    ax.set_ylabel(r'$\\tilde{\\delta}$')\n",
    "    \n",
    "def adjacent_values(vals, q1, q3):\n",
    "    upper_adjacent_value = q3 + (q3 - q1) * 1.5\n",
    "    upper_adjacent_value = np.clip(upper_adjacent_value, q3, vals[-1])\n",
    "\n",
    "    lower_adjacent_value = q1 - (q3 - q1) * 1.5\n",
    "    lower_adjacent_value = np.clip(lower_adjacent_value, vals[0], q1)\n",
    "    return lower_adjacent_value, upper_adjacent_value\n",
    "\n",
    "def draw_violin(data_dir, epoches, save_file=None):\n",
    "    data = []\n",
    "    for i, epoch in enumerate(epoches):\n",
    "        data_file = \"noise_array_{}.npy\".format(epoch)\n",
    "        data_path = os.path.join(data_dir, data_file)\n",
    "        array = np.load(data_path)\n",
    "        data.append(sorted(array))\n",
    "\n",
    "    fig, ax = plt.subplots(nrows=1, ncols=1, figsize=(len(epoches) * 2, 4))\n",
    "    parts = ax.violinplot(\n",
    "            data, widths=0.75, showmeans=False, showmedians=False,\n",
    "            showextrema=False)\n",
    "\n",
    "\n",
    "    body_colors = [\"#D5E8D4\", \"#DAE8FC\", \"#FFE6CC\", \"#F8CECC\"] #green, blue, orange, red\n",
    "    for pc, color in list(zip(parts['bodies'], body_colors)):\n",
    "        pc.set_facecolor(color)\n",
    "        pc.set_edgecolor('black')\n",
    "        pc.set_alpha(1)\n",
    "\n",
    "    quartile1, medians, quartile3 = np.percentile(data, [25, 50, 75], axis=1)\n",
    "    mean = np.mean(data, axis=1)\n",
    "    whiskers = np.array([\n",
    "        adjacent_values(sorted_array, q1, q3)\n",
    "        for sorted_array, q1, q3 in zip(data, quartile1, quartile3)])\n",
    "    whiskers_min, whiskers_max = whiskers[:, 0], whiskers[:, 1]\n",
    "\n",
    "    inds = np.arange(1, len(medians) + 1)\n",
    "    ax.scatter(inds, mean, marker='_', color='white', s=60, zorder=3)\n",
    "    ax.vlines(inds, quartile1, quartile3, color='black', linestyle='-', lw=5)\n",
    "    ax.vlines(inds, whiskers_min, whiskers_max, color='black', linestyle='-', lw=1)\n",
    "    ax.hlines(0.00, 0, 9, color='black', linestyle='dotted', lw=1)\n",
    "    set_axis_style(ax, epoches)\n",
    "    \n",
    "    if save_file != None:\n",
    "        plt.savefig(save_file, bbox_inches='tight')  "
   ]
  },
  {
   "cell_type": "code",
   "execution_count": 3,
   "id": "41647f3a",
   "metadata": {},
   "outputs": [
    {
     "data": {
      "image/png": "[encoded data removed]",
      "text/plain": [
       "<Figure size 144x288 with 1 Axes>"
      ]
     },
     "metadata": {
      "needs_background": "light"
     },
     "output_type": "display_data"
    }
   ],
   "source": [
    "data_dir = \"../../exps/ckpt_log_clipping/logs/\" \n",
    "\n",
    "epoches = [\"600\"] # You can provide a list of epoch numbers to draw their violin plots in the same figure\n",
    "\n",
    "draw_violin(data_dir, epoches)"
   ]
  }
 ],
 "metadata": {
  "kernelspec": {
   "display_name": "urlb",
   "language": "python",
   "name": "urlb"
  },
  "language_info": {
   "codemirror_mode": {
    "name": "ipython",
    "version": 3
   },
   "file_extension": ".py",
   "mimetype": "text/x-python",
   "name": "python",
   "nbconvert_exporter": "python",
   "pygments_lexer": "ipython3",
   "version": "3.8.12"
  }
 },
 "nbformat": 4,
 "nbformat_minor": 5
}
